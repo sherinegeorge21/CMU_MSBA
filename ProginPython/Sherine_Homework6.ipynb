{
 "cells": [
  {
   "cell_type": "markdown",
   "id": "cb84aa61",
   "metadata": {},
   "source": [
    "# Homework 6"
   ]
  },
  {
   "cell_type": "markdown",
   "id": "6c90e38c",
   "metadata": {},
   "source": [
    "## Question 1 (40 points)\n",
    "\n",
    "You might find this a bit challenging at first, but trust me: with what you learned so far, you got this! 💪\n",
    "\n",
    "Re-implement the `ip_address2country_code` function of Homework 4 in Python. Show that your implementation works by executing your function using the following list of IP addresses as input:\n",
    "```\n",
    "[\n",
    "    \"171.182.200.160\",\n",
    "    \"203.45.67.89\",\n",
    "    \"10.0.0.23\",\n",
    "    \"172.16.32.55\",\n",
    "    \"67.195.44.68\"\n",
    "]\n",
    "```\n",
    "\n",
    "Hints:\n",
    "- You will need the [`requests` library](https://requests.readthedocs.io), and in particular you will need to use [the `requests.post` function](https://requests.readthedocs.io/en/latest/api/#requests.post).\n",
    "- You can use a list comprehension to create the request body (which you will pass to the `json` argument of the `request.post` function). According to [the ip-api API documentation](https://ip-api.com/docs/api:batch), it is acceptable to format the request body as a list of dictionaries:\n",
    "\n",
    "  ```\n",
    "  [\n",
    "      {\"query\": \"171.182.200.160\"},\n",
    "      {\"query\": \"203.45.67.89\"},\n",
    "      ...\n",
    "  ]\n",
    "  ```\n",
    "\n",
    "- You can parse the body of the response using the `json` method e.g.,\n",
    "\n",
    "  ```\n",
    "  response = requests.post(...)\n",
    "  response.json() # <- this is a list of dictionaries, with a dictionary for each input ip address\n",
    "  ```\n",
    "\n",
    "- Finally, you can use another list comprehension on the output of `response.json()` to create the output list of country codes, but be careful handling cases where the `countryCode` key is not available (e.g., because the IP address is private). You might find it convenient to use the [`get` method](https://docs.python.org/3/library/stdtypes.html#dict.get) of Python dictionaries, which allows to extract the value associated with a key when the key exists and return `None` when the key does not exist."
   ]
  },
  {
   "cell_type": "code",
   "execution_count": 1,
   "id": "c62c8641",
   "metadata": {},
   "outputs": [
    {
     "name": "stdout",
     "output_type": "stream",
     "text": [
      "['GB', 'AU', None, None, 'US']\n"
     ]
    }
   ],
   "source": [
    "import requests\n",
    "\n",
    "def ip_address2country_code(ip_addresses):\n",
    "    ip_api_url = \"http://ip-api.com/batch/\"\n",
    "    request_body = [{\"query\": ip} for ip in ip_addresses]\n",
    "    response = requests.post(url=ip_api_url, json=request_body)\n",
    "    if response.status_code == 200:\n",
    "        response_data = response.json()\n",
    "        country_codes = [entry.get(\"countryCode\", None) for entry in response_data]\n",
    "        return country_codes\n",
    "    else:\n",
    "        return None\n",
    "ip_addresses = [\n",
    "    \"171.182.200.160\",\n",
    "    \"203.45.67.89\",\n",
    "    \"10.0.0.23\",\n",
    "    \"172.16.32.55\",\n",
    "    \"67.195.44.68\"\n",
    "]\n",
    "country_codes = ip_address2country_code(ip_addresses)\n",
    "print(country_codes)"
   ]
  },
  {
   "cell_type": "markdown",
   "id": "8dc23cc3",
   "metadata": {},
   "source": [
    "## Question 2 (30 points)\n",
    "\n",
    "Use the following code to read the `log.txt` file into a list, such that each each line of the log file is an element of the list:\n",
    "\n",
    "```\n",
    "with open(\"./data/log.txt\") as log_file:\n",
    "    log = log_file.readlines()\n",
    "```\n",
    "\n",
    "Using what you know about for loops and regular expressions, iterate over the log line by line and extract into a list all IP addresses that appear in the log.\n",
    "\n",
    "Hints:\n",
    "\n",
    "- For this exercise, you can assume that there is at most 1 IP address on each line.\n",
    "\n",
    "- There are in total 20 IP addresses (some appearing more than once possibly) in the log. Your final list should have length 20.\n",
    "\n",
    "- You might find the `append` or `extend` methods of Python `list`s useful in this exercise."
   ]
  },
  {
   "cell_type": "code",
   "execution_count": 3,
   "id": "672febe8",
   "metadata": {},
   "outputs": [
    {
     "name": "stdout",
     "output_type": "stream",
     "text": [
      "['129.1.1.1', '9.37.65.139', '9.67.100.1', '9.67.101.1', '9.67.116.98', '9.67.117.98', '127.0.0.1', '129.1.1.1', '9.37.65.139', '9.67.100.1', '9.67.101.1', '9.67.116.98', '9.67.117.98', '127.0.0.1', '9.67.116.99', '9.67.116.98', '9.67.116.98', '0.0.0.0', '9.67.116.98', '9.67.116.99']\n"
     ]
    }
   ],
   "source": [
    "import re\n",
    "ip_addresses = []\n",
    "with open(r\"log.txt\") as log_file:\n",
    "    log = log_file.readlines()\n",
    "ip_pattern = r\"\\b\\d{1,3}\\.\\d{1,3}\\.\\d{1,3}\\.\\d{1,3}\\b\"\n",
    "for line in log:\n",
    "    # Use regular expression search to find IP addresses in the line\n",
    "    matches = re.findall(ip_pattern, line)\n",
    "    \n",
    "    # If any matches are found, add them to the ip_addresses list\n",
    "    if matches:\n",
    "        ip_addresses.extend(matches)\n",
    "\n",
    "# Print the list of extracted IP addresses\n",
    "print(ip_addresses)\n"
   ]
  },
  {
   "cell_type": "markdown",
   "id": "34bae261",
   "metadata": {},
   "source": [
    "## Question 3 (30 points)\n",
    "\n",
    "Solve again the Exercise 1 of Lab 6, this time using Python.\n",
    "\n",
    "Hints:\n",
    "\n",
    "- Read the dataset into a `pandas.DataFrame` and name the data frame `purchases`.\n",
    "\n",
    "- Write a function that takes an email as input (e.g., `\"john.doe@gmail.com\"` and returns the masked email as output (e.g., `\"jxxxxxxe@gmail.com\"`). You may find the `split` and `join` methods of Python strings handy.\n",
    "\n",
    "- Use the `map` method of `purchases[\"email\"]` (which is an example of a `pandas.Series`) to apply your function to all elements of that column."
   ]
  },
  {
   "cell_type": "code",
   "execution_count": 4,
   "id": "4cc48194",
   "metadata": {},
   "outputs": [
    {
     "name": "stdout",
     "output_type": "stream",
     "text": [
      "                       email                  item  n_purchases\n",
      "0         jxxxxxxe@gmail.com        vacuum cleaner            1\n",
      "1         exxxxxxe@yahoo.com         standing desk            1\n",
      "2            jxxxs@gmail.com  $25 amazon gift card            3\n",
      "3          mxxy@fancyuni.edu           chewing gum            5\n",
      "4  rxxxxxxxxxxxe@outlook.com               pencils           10\n"
     ]
    }
   ],
   "source": [
    "import pandas as pd\n",
    "data = {\n",
    "    'email': [\n",
    "        'john.doe@gmail.com',\n",
    "        'emma.lee@yahoo.com',\n",
    "        'james@gmail.com',\n",
    "        'mary@fancyuni.edu',\n",
    "        'roger.mcguire@outlook.com'\n",
    "    ],\n",
    "    'item': [\n",
    "        'vacuum cleaner',\n",
    "        'standing desk',\n",
    "        '$25 amazon gift card',\n",
    "        'chewing gum',\n",
    "        'pencils'\n",
    "    ],\n",
    "    'n_purchases': [1, 1, 3, 5, 10]\n",
    "}\n",
    "purchases = pd.DataFrame(data)\n",
    "def mask_email(email):\n",
    "    parts = email.split('@')\n",
    "    if len(parts) != 2:\n",
    "        return email\n",
    "    username, domain = parts\n",
    "    masked_username = username[0] + 'x' * (len(username) - 2) + username[-1]\n",
    "    return masked_username + '@' + domain\n",
    "purchases[\"email\"] = purchases[\"email\"].map(mask_email)\n",
    "print(purchases)\n"
   ]
  },
  {
   "cell_type": "code",
   "execution_count": null,
   "id": "ff81ebc2",
   "metadata": {},
   "outputs": [],
   "source": []
  }
 ],
 "metadata": {
  "kernelspec": {
   "display_name": "Python 3",
   "language": "python",
   "name": "python3"
  },
  "language_info": {
   "codemirror_mode": {
    "name": "ipython",
    "version": 3
   },
   "file_extension": ".py",
   "mimetype": "text/x-python",
   "name": "python",
   "nbconvert_exporter": "python",
   "pygments_lexer": "ipython3",
   "version": "3.8.5"
  }
 },
 "nbformat": 4,
 "nbformat_minor": 5
}
